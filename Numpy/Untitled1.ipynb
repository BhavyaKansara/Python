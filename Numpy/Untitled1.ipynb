{
 "cells": [
  {
   "cell_type": "code",
   "execution_count": 1,
   "metadata": {},
   "outputs": [
    {
     "name": "stdout",
     "output_type": "stream",
     "text": [
      "list1 is [1, 4, 7, 99, 88, 7]\n",
      "list2 is [1, 4, 77, 99, 33, 54, 99, 88, 7]\n",
      "Common numbers are {1, 99, 4, 7, 88}\n"
     ]
    }
   ],
   "source": [
    "lst1 = [1,4,7,99,88,7]\n",
    "lst2 = [1,4,77,99,33,54,99,88,7]\n",
    "print(\"list1 is\", lst1)\n",
    "print(\"list2 is\", lst2)\n",
    "s1 = set(lst1)\n",
    "s2 = set(lst2)\n",
    "print(\"Common numbers are\", s1 & s2)"
   ]
  },
  {
   "cell_type": "code",
   "execution_count": 4,
   "metadata": {},
   "outputs": [
    {
     "name": "stdout",
     "output_type": "stream",
     "text": [
      "name prati\n",
      "age is 37\n",
      "dept is CE\n",
      "name pri\n",
      "age is 33\n",
      "dept is ME\n",
      "total= 6\n"
     ]
    }
   ],
   "source": [
    "def printstr(str):\n",
    "    print(str)\n",
    "    return str\n",
    "\n",
    "def printstr(str):\n",
    "    print(str)\n",
    "    str='test'\n",
    "    return str\n",
    "\n",
    "def printlst(lst):\n",
    "    print(lst)\n",
    "    lst[2]=50\n",
    "    return\n",
    "\n",
    "def arqutest(name,age,dept='CE'):\n",
    "    print(\"name\",name)\n",
    "    print(\"age is\",age)\n",
    "    print(\"dept is\",dept)\n",
    "    return\n",
    "arqutest('prati',37)\n",
    "arqutest('pri',33,'ME')\n",
    "\n",
    "sum=lambda ar1,ar2,ar3:ar1+ar2+ar3\n",
    "print(\"total=\",sum(1,2,3))"
   ]
  },
  {
   "cell_type": "code",
   "execution_count": 6,
   "metadata": {},
   "outputs": [
    {
     "name": "stdout",
     "output_type": "stream",
     "text": [
      "how many member of list5\n",
      "Enter member of list 23\n",
      "Enter member of list 34\n",
      "Enter member of list 45\n",
      "Enter member of list 56\n",
      "Enter member of list 67\n",
      "[23, 34, 45, 56, 67]\n",
      "odd numbers are [23, 45, 67]\n",
      "even numbers are [34, 56]\n"
     ]
    }
   ],
   "source": [
    "n=int(input(\"how many member of list\"))\n",
    "lst=[]\n",
    "l=0\n",
    "while l<n:\n",
    "    lst.append(int(input(\"Enter member of list \")))\n",
    "    l+=1\n",
    "print(lst)\n",
    "odd=[x for x in lst if x%2!=0]\n",
    "even=[x for x in lst if x%2==0]\n",
    "print(\"odd numbers are\",odd)\n",
    "print(\"even numbers are\",even)"
   ]
  },
  {
   "cell_type": "code",
   "execution_count": null,
   "metadata": {},
   "outputs": [],
   "source": []
  }
 ],
 "metadata": {
  "kernelspec": {
   "display_name": "Python 3",
   "language": "python",
   "name": "python3"
  },
  "language_info": {
   "codemirror_mode": {
    "name": "ipython",
    "version": 3
   },
   "file_extension": ".py",
   "mimetype": "text/x-python",
   "name": "python",
   "nbconvert_exporter": "python",
   "pygments_lexer": "ipython3",
   "version": "3.8.5"
  }
 },
 "nbformat": 4,
 "nbformat_minor": 4
}
